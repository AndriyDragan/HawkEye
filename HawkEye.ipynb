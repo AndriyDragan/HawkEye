{
  "nbformat": 4,
  "nbformat_minor": 0,
  "metadata": {
    "colab": {
      "provenance": [],
      "include_colab_link": true
    },
    "kernelspec": {
      "name": "python3",
      "display_name": "Python 3"
    },
    "language_info": {
      "name": "python"
    }
  },
  "cells": [
    {
      "cell_type": "markdown",
      "metadata": {
        "id": "view-in-github",
        "colab_type": "text"
      },
      "source": [
        "<a href=\"https://colab.research.google.com/github/AndriyDragan/HawkEye/blob/main/HawkEye.ipynb\" target=\"_parent\"><img src=\"https://colab.research.google.com/assets/colab-badge.svg\" alt=\"Open In Colab\"/></a>"
      ]
    },
    {
      "cell_type": "markdown",
      "source": [
        "TODO: Write project description and motivation"
      ],
      "metadata": {
        "id": "TO5qg9_qTCNM"
      }
    },
    {
      "cell_type": "code",
      "execution_count": 13,
      "metadata": {
        "id": "YBLUJcItxCVY"
      },
      "outputs": [],
      "source": [
        "import os\n",
        "import xml.etree.ElementTree as ET\n",
        "from PIL import Image\n",
        "import numpy as np\n",
        "import matplotlib.pyplot as plt\n",
        "import random\n",
        "\n",
        "data_dir = 'HawkEye/Data'\n",
        "\n",
        "# Define function to read annotations\n",
        "def read_annotations(xml_path):\n",
        "    # Parse the XML file\n",
        "    tree = ET.parse(xml_path)\n",
        "\n",
        "    # Get the root element of the XML tree\n",
        "    root = tree.getroot()\n",
        "\n",
        "    # Initialize an empty list to store the annotations\n",
        "    annotations = []\n",
        "\n",
        "    # Loop through <object> elements in the XML\n",
        "    for obj in root.findall('object'):\n",
        "\n",
        "        # Extract the label from the <name> element\n",
        "        name = obj.find('name').text\n",
        "\n",
        "        # Extract the bounding box coordinates from the <bndbox> element\n",
        "        bbox = obj.find('bndbox')\n",
        "        xmin = int(bbox.find('xmin').text)\n",
        "        ymin = int(bbox.find('ymin').text)\n",
        "        xmax = int(bbox.find('xmax').text)\n",
        "        ymax = int(bbox.find('ymax').text)\n",
        "        annotations.append((name, (xmin, ymin, xmax, ymax)))\n",
        "\n",
        "    # Return the list of annotations\n",
        "    return annotations\n",
        "\n",
        "# Define function to read images and annotations\n",
        "def read_data(file_names, data_dir):\n",
        "    # Initialize two empty lists\n",
        "    data = []\n",
        "    dims = []\n",
        "\n",
        "    # Loop over the file names extracted and read the images and annotations\n",
        "    for file_name in file_names:\n",
        "\n",
        "        # Get the paths to the files\n",
        "        img_path = os.path.join(data_dir, 'Images', file_name + '.jpg')\n",
        "        xml_path = os.path.join(data_dir, 'Labels', 'Horizontal Bounding Boxes', file_name + '.xml')\n",
        "\n",
        "        # Read the image\n",
        "        img = Image.open(img_path)\n",
        "\n",
        "        # Exclude 4-channel images\n",
        "        if len(np.array(img).shape) != 3 or np.array(img).shape[2] != 3:\n",
        "            continue\n",
        "\n",
        "        # Extract annotations\n",
        "        annotations = read_annotations(xml_path)\n",
        "\n",
        "        # Get the dimensions of all objects and store it for later use\n",
        "        for annot in annotations:\n",
        "            width = abs(annot[1][0] - annot[1][2])\n",
        "            height = abs(annot[1][1] - annot[1][3])\n",
        "            dims.append(width)\n",
        "            dims.append(height)\n",
        "\n",
        "        data.append((img, annotations))\n",
        "\n",
        "    return data, dims\n",
        "\n",
        "# Function to display image with annotations\n",
        "def display_image_with_annotations(image, annotations):\n",
        "    # Create a copy of the image to draw on\n",
        "    img_copy = image.copy()\n",
        "    draw = ImageDraw.Draw(img_copy)\n",
        "\n",
        "    # Draw annotations on the copy\n",
        "    for obj in annotations:\n",
        "        label, (xmin, ymin, xmax, ymax) = obj\n",
        "        draw.rectangle([xmin, ymin, xmax, ymax], outline='red')\n",
        "        draw.text((xmin, ymin), label, fill='red')\n",
        "\n",
        "    # Convert to numpy array for displaying with matplotlib\n",
        "    img_array = np.array(img_copy)\n",
        "    plt.imshow(img_array)\n",
        "    plt.axis('off')\n",
        "    plt.show()\n"
      ]
    },
    {
      "cell_type": "code",
      "source": [
        "# Get the list of filenames (without extension)\n",
        "file_names = [f.split('.')[0] for f in os.listdir(os.path.join(data_dir, 'Images'))]\n",
        "\n",
        "# Read the data\n",
        "train_data, train_obj_dims = read_data(file_names, data_dir)"
      ],
      "metadata": {
        "id": "E5c6ka51WITo"
      },
      "execution_count": null,
      "outputs": []
    },
    {
      "cell_type": "code",
      "source": [
        "# Display random samples\n",
        "cnt = 1\n",
        "plt.figure(figsize=(15, 10))\n",
        "for r in range(3):\n",
        "    for c in range(6):\n",
        "        idx = random.randint(0, len(train_data) - 1)\n",
        "        img = train_data[idx][0]\n",
        "        annotations = train_data[idx][1]\n",
        "        plt.subplot(3, 6, cnt)\n",
        "        display_image_with_annotations(img, annotations)\n",
        "        cnt += 1\n",
        "plt.show()"
      ],
      "metadata": {
        "id": "2vWbPWDKWLW_"
      },
      "execution_count": null,
      "outputs": []
    }
  ]
}